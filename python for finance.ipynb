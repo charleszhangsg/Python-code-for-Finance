{
 "cells": [
  {
   "cell_type": "markdown",
   "id": "36c1d0a6",
   "metadata": {},
   "source": [
    "# Python for Yahoo Finance Equity data"
   ]
  },
  {
   "cell_type": "code",
   "execution_count": null,
   "id": "8a0c1193",
   "metadata": {},
   "outputs": [],
   "source": [
    "import numpy as np\n",
    "import pandas as pd"
   ]
  },
  {
   "cell_type": "code",
   "execution_count": null,
   "id": "de2c7cb3",
   "metadata": {
    "scrolled": true
   },
   "outputs": [],
   "source": [
    "from pandas_datareader import data as wb\n",
    "TSLA = wb.DataReader('TSLA', data_source = 'yahoo', start='2010-01-01')\n",
    "TSLA"
   ]
  },
  {
   "cell_type": "code",
   "execution_count": null,
   "id": "5a97e199",
   "metadata": {},
   "outputs": [],
   "source": [
    "TSLA.info()"
   ]
  },
  {
   "cell_type": "code",
   "execution_count": null,
   "id": "c7e2785b",
   "metadata": {},
   "outputs": [],
   "source": [
    "import pandas as pd\n",
    "names = ['CVE','TSLA','F','EDU']\n",
    "new_data = pd.DataFrame()\n",
    "for a in names:\n",
    "    new_data[a] = wb.DataReader(a, data_source='yahoo',start='2015-01-01')['Adj Close']\n",
    "new_data.tail(10)"
   ]
  },
  {
   "cell_type": "code",
   "execution_count": null,
   "id": "d996df1c",
   "metadata": {},
   "outputs": [],
   "source": [
    "from pandas_datareader import data as wb"
   ]
  },
  {
   "cell_type": "code",
   "execution_count": null,
   "id": "9b7a8296",
   "metadata": {
    "scrolled": true
   },
   "outputs": [],
   "source": [
    "#PG = wb.DataReader('PG', data_source='morningstar', start='2020-01-01')"
   ]
  },
  {
   "cell_type": "code",
   "execution_count": null,
   "id": "32a152b7",
   "metadata": {},
   "outputs": [],
   "source": [
    "import quandl "
   ]
  },
  {
   "cell_type": "code",
   "execution_count": null,
   "id": "4ddf3dfe",
   "metadata": {},
   "outputs": [],
   "source": [
    "my_data01 = quandl.get(\"FRED/GDP\")"
   ]
  },
  {
   "cell_type": "code",
   "execution_count": null,
   "id": "33962221",
   "metadata": {},
   "outputs": [],
   "source": [
    "import pandas as pd"
   ]
  },
  {
   "cell_type": "code",
   "execution_count": null,
   "id": "b9d3bda5",
   "metadata": {},
   "outputs": [],
   "source": [
    "my_data01.to_csv(\"/Users/ZHANGMIN/Desktop/example_01.csv\")"
   ]
  },
  {
   "cell_type": "code",
   "execution_count": null,
   "id": "05a4d4ea",
   "metadata": {},
   "outputs": [],
   "source": [
    "my_data02 = pd.read_csv(\"/Users/ZHANGMIN/Desktop/Data_02.csv\")"
   ]
  },
  {
   "cell_type": "code",
   "execution_count": null,
   "id": "9698b971",
   "metadata": {},
   "outputs": [],
   "source": [
    "my_data02.head()"
   ]
  },
  {
   "cell_type": "code",
   "execution_count": null,
   "id": "4b050c9d",
   "metadata": {},
   "outputs": [],
   "source": [
    "my_data02.tail()"
   ]
  },
  {
   "cell_type": "code",
   "execution_count": null,
   "id": "88703cd0",
   "metadata": {},
   "outputs": [],
   "source": [
    "my_data02 = pd.read_csv(\"/Users/ZHANGMIN/Desktop/Data_02.csv\", index_col='Date')"
   ]
  },
  {
   "cell_type": "code",
   "execution_count": null,
   "id": "dd68a5e0",
   "metadata": {},
   "outputs": [],
   "source": [
    "my_data02"
   ]
  },
  {
   "cell_type": "code",
   "execution_count": null,
   "id": "2d3160c5",
   "metadata": {},
   "outputs": [],
   "source": [
    "#my_data03 = pd.read_csv(\"/Users/ZHANGMIN/Desktop/Data_03.csv\")"
   ]
  },
  {
   "cell_type": "code",
   "execution_count": null,
   "id": "2cc4cdf5",
   "metadata": {},
   "outputs": [],
   "source": [
    "# risk and return "
   ]
  },
  {
   "cell_type": "code",
   "execution_count": null,
   "id": "47ab6915",
   "metadata": {},
   "outputs": [],
   "source": [
    "# return of a security, rate of return, return of portfolio of securities, risk: sd, var, cov, correlation "
   ]
  },
  {
   "cell_type": "code",
   "execution_count": null,
   "id": "a0052e0b",
   "metadata": {},
   "outputs": [],
   "source": [
    "# simple rate of return"
   ]
  },
  {
   "cell_type": "code",
   "execution_count": null,
   "id": "0d5abb06",
   "metadata": {},
   "outputs": [],
   "source": [
    "# logarithmic rate of return: log(ending/beginning)"
   ]
  },
  {
   "cell_type": "code",
   "execution_count": null,
   "id": "f05d2173",
   "metadata": {},
   "outputs": [],
   "source": [
    "import numpy as np\n",
    "from pandas_datareader import data as wb\n",
    "import matplotlib.pyplot as plt"
   ]
  },
  {
   "cell_type": "code",
   "execution_count": null,
   "id": "0ca3ebd3",
   "metadata": {},
   "outputs": [],
   "source": [
    "TSLA = wb.DataReader('TSLA', data_source='yahoo', start='2010-01-01')"
   ]
  },
  {
   "cell_type": "markdown",
   "id": "ddb8a3af",
   "metadata": {},
   "source": [
    "# simple rate of return"
   ]
  },
  {
   "cell_type": "code",
   "execution_count": null,
   "id": "88c8f4c5",
   "metadata": {},
   "outputs": [],
   "source": [
    "TSLA['simple return'] = TSLA['Adj Close'] / TSLA['Adj Close'].shift(1) - 1\n",
    "print(TSLA['simple return'])"
   ]
  },
  {
   "cell_type": "code",
   "execution_count": null,
   "id": "e0c9604c",
   "metadata": {},
   "outputs": [],
   "source": [
    "TSLA['simple return'].tail()"
   ]
  },
  {
   "cell_type": "code",
   "execution_count": null,
   "id": "6015715a",
   "metadata": {},
   "outputs": [],
   "source": [
    "TSLA['simple return'].plot(figsize=(10,8))\n",
    "plt.show()  # must specify as python wont show if dont"
   ]
  },
  {
   "cell_type": "code",
   "execution_count": null,
   "id": "cbe52b80",
   "metadata": {},
   "outputs": [],
   "source": [
    "avg_return = TSLA['simple return'].mean()\n",
    "avg_return"
   ]
  },
  {
   "cell_type": "code",
   "execution_count": null,
   "id": "df4ae902",
   "metadata": {},
   "outputs": [],
   "source": [
    "annual_return = TSLA['simple return'].mean() * 250 # 250 trading days a year\n",
    "annual_return"
   ]
  },
  {
   "cell_type": "code",
   "execution_count": null,
   "id": "368c4401",
   "metadata": {},
   "outputs": [],
   "source": [
    "print (str(round(annual_return, 5)*100) + ' %')"
   ]
  },
  {
   "cell_type": "code",
   "execution_count": null,
   "id": "c59b190e",
   "metadata": {},
   "outputs": [],
   "source": [
    "# log rate of return "
   ]
  },
  {
   "cell_type": "code",
   "execution_count": null,
   "id": "425ead72",
   "metadata": {},
   "outputs": [],
   "source": [
    "TSLA['log_return'] = np.log(TSLA['Adj Close']) / np.log(TSLA['Adj Close'].shift(1))\n",
    "#TSLA"
   ]
  },
  {
   "cell_type": "code",
   "execution_count": null,
   "id": "d7384d4a",
   "metadata": {},
   "outputs": [],
   "source": [
    "TSLA['log_return'].plot(figsize=(10,5))\n",
    "plt.show()"
   ]
  },
  {
   "cell_type": "code",
   "execution_count": null,
   "id": "9d27eb7a",
   "metadata": {},
   "outputs": [],
   "source": [
    "log_return_a = TSLA['log_return'].mean()\n",
    "log_return_a"
   ]
  },
  {
   "cell_type": "code",
   "execution_count": null,
   "id": "d05b4975",
   "metadata": {},
   "outputs": [],
   "source": [
    "log_return_b = TSLA['log_return'].mean() * 250 # annual log return\n",
    "log_return_b"
   ]
  },
  {
   "cell_type": "code",
   "execution_count": null,
   "id": "af724353",
   "metadata": {},
   "outputs": [],
   "source": [
    "print (str(round(log_return_b, 5)*100) + \" %\")"
   ]
  },
  {
   "cell_type": "code",
   "execution_count": null,
   "id": "896aaf88",
   "metadata": {},
   "outputs": [],
   "source": [
    "# rate of portfolio return"
   ]
  },
  {
   "cell_type": "code",
   "execution_count": null,
   "id": "d752c479",
   "metadata": {},
   "outputs": [],
   "source": [
    "import numpy as np\n",
    "import pandas as pd\n",
    "from pandas_datareader import data as wb\n",
    "import matplotlib.pyplot as plt "
   ]
  },
  {
   "cell_type": "code",
   "execution_count": null,
   "id": "406fb61a",
   "metadata": {},
   "outputs": [],
   "source": [
    "a = ['GE','F','PG','MSFT']\n",
    "mydata = pd.DataFrame()\n",
    "for e in a:\n",
    "    mydata[e] = wb.DataReader(e,data_source='yahoo',start='1995-01-01')['Adj Close']"
   ]
  },
  {
   "cell_type": "code",
   "execution_count": null,
   "id": "9f945095",
   "metadata": {},
   "outputs": [],
   "source": [
    "# normalization of data:  p_t/P_0 * 100  every data will start based on 100 "
   ]
  },
  {
   "cell_type": "code",
   "execution_count": null,
   "id": "36d73cad",
   "metadata": {},
   "outputs": [],
   "source": [
    "mydata.iloc[0]"
   ]
  },
  {
   "cell_type": "code",
   "execution_count": null,
   "id": "2bc66908",
   "metadata": {},
   "outputs": [],
   "source": [
    "(mydata/mydata.iloc[0]*100).plot(figsize=(15,6)) # normalization of data, starting at the same pace\n",
    "plt.show()"
   ]
  },
  {
   "cell_type": "code",
   "execution_count": null,
   "id": "8f7060fc",
   "metadata": {},
   "outputs": [],
   "source": [
    "mydata.plot(figsize=(10,5))"
   ]
  },
  {
   "cell_type": "code",
   "execution_count": null,
   "id": "69c92026",
   "metadata": {},
   "outputs": [],
   "source": [
    "#mydata.loc['1995-01-10']\n",
    "mydata.iloc[0]"
   ]
  },
  {
   "cell_type": "code",
   "execution_count": null,
   "id": "4503025b",
   "metadata": {},
   "outputs": [],
   "source": [
    "# calculating return of a portfolio securities"
   ]
  },
  {
   "cell_type": "code",
   "execution_count": null,
   "id": "18c80834",
   "metadata": {},
   "outputs": [],
   "source": [
    "# simple return of a portfolio\n",
    "returns = (mydata / mydata.shift(1)) - 1\n",
    "returns.head()"
   ]
  },
  {
   "cell_type": "code",
   "execution_count": null,
   "id": "ba74946e",
   "metadata": {},
   "outputs": [],
   "source": [
    "import numpy as np\n",
    "weights = np.array([0.25,0.25,0.25,0.25])"
   ]
  },
  {
   "cell_type": "code",
   "execution_count": null,
   "id": "94b06e1f",
   "metadata": {},
   "outputs": [],
   "source": [
    "np.dot(returns, weights) # does not work as no average return "
   ]
  },
  {
   "cell_type": "code",
   "execution_count": null,
   "id": "260aa057",
   "metadata": {},
   "outputs": [],
   "source": [
    "annual_return = returns.mean() * 250 # annual average return \n",
    "num_1 = np.dot(annual_return, weights)  # dot product of annual return and its corresponding weight"
   ]
  },
  {
   "cell_type": "code",
   "execution_count": null,
   "id": "869206f2",
   "metadata": {},
   "outputs": [],
   "source": [
    "por_1 = str(round(np.dot(annual_return, weights),4)*100)+' %'\n",
    "print(por_1)"
   ]
  },
  {
   "cell_type": "code",
   "execution_count": null,
   "id": "ef306ac4",
   "metadata": {},
   "outputs": [],
   "source": [
    "weights_2 = np.array([0.4,0.4,0.15,0.05])"
   ]
  },
  {
   "cell_type": "code",
   "execution_count": null,
   "id": "11319d03",
   "metadata": {},
   "outputs": [],
   "source": [
    "por_2 = str(round(np.dot(annual_return, weights_2),3)*100)+' %'\n",
    "print(por_1)\n",
    "print(por_2)"
   ]
  },
  {
   "cell_type": "code",
   "execution_count": null,
   "id": "fcf4c8a5",
   "metadata": {},
   "outputs": [],
   "source": [
    "# return of security indices"
   ]
  },
  {
   "cell_type": "code",
   "execution_count": null,
   "id": "851c48f8",
   "metadata": {},
   "outputs": [],
   "source": [
    "import pandas as pd\n",
    "import numpy as np\n",
    "from pandas_datareader import data as wb\n",
    "import matplotlib.pyplot as plt"
   ]
  },
  {
   "cell_type": "code",
   "execution_count": null,
   "id": "d765feaf",
   "metadata": {},
   "outputs": [],
   "source": [
    "tickers = ['^GSPC','^IXIC','^GDAXI']\n",
    "indice_num = pd.DataFrame()\n",
    "for a in tickers:\n",
    "    indice_num[a] = wb.DataReader(a,data_source='yahoo',start='1997-01-01')['Adj Close'] # we use adj close"
   ]
  },
  {
   "cell_type": "code",
   "execution_count": null,
   "id": "bbe0551f",
   "metadata": {},
   "outputs": [],
   "source": [
    "# normalization of indice_num\n",
    "((indice_num / indice_num.iloc[0]) * 100).plot(figsize=(10,6))"
   ]
  },
  {
   "cell_type": "code",
   "execution_count": null,
   "id": "9a5a04d5",
   "metadata": {},
   "outputs": [],
   "source": [
    "# simple return of indices\n",
    "ind_return = (indice_num / indice_num.shift(1)) - 1\n",
    "ind_return"
   ]
  },
  {
   "cell_type": "code",
   "execution_count": null,
   "id": "37e51de9",
   "metadata": {},
   "outputs": [],
   "source": [
    "annual_avg_return = ind_return.mean() * 250\n",
    "annual_avg_return "
   ]
  },
  {
   "cell_type": "code",
   "execution_count": null,
   "id": "049da5fa",
   "metadata": {},
   "outputs": [],
   "source": [
    "# compare a stock with indices"
   ]
  },
  {
   "cell_type": "code",
   "execution_count": null,
   "id": "e4c81228",
   "metadata": {},
   "outputs": [],
   "source": [
    "stock_and_indice = ['TSLA', '^IXIC']\n",
    "comparison_tsla = pd.DataFrame()\n",
    "for s in stock_and_indice:\n",
    "    comparison_tsla[s] = wb.DataReader(s, data_source='yahoo', start='2000-01-01')['Adj Close']"
   ]
  },
  {
   "cell_type": "code",
   "execution_count": null,
   "id": "57f1a4e6",
   "metadata": {},
   "outputs": [],
   "source": [
    "comparison_tsla.plot(figsize=(15,6))"
   ]
  },
  {
   "cell_type": "markdown",
   "id": "4f79f3be",
   "metadata": {},
   "source": [
    "# normalization of data"
   ]
  },
  {
   "cell_type": "code",
   "execution_count": null,
   "id": "6f23962e",
   "metadata": {},
   "outputs": [],
   "source": [
    "# normalize tsla and nasdaq index\n",
    "(comparison_tsla / comparison_tsla.iloc[0]*100).plot(figsize=(10,6))"
   ]
  },
  {
   "cell_type": "code",
   "execution_count": null,
   "id": "8af794af",
   "metadata": {},
   "outputs": [],
   "source": [
    "# security's risk, variability, variance, standard deviation, dispersion of data points\n",
    "# risk of a security is the variability of a security / standard deviation"
   ]
  },
  {
   "cell_type": "code",
   "execution_count": null,
   "id": "4e23439e",
   "metadata": {},
   "outputs": [],
   "source": [
    "tickers_stock = ['PG', 'BEI.DE']\n",
    "stock_risk = pd.DataFrame()\n",
    "for o in tickers_stock:\n",
    "    stock_risk[o] = wb.DataReader(o, data_source='yahoo', start='2007-01-01')['Adj Close']\n"
   ]
  },
  {
   "cell_type": "code",
   "execution_count": null,
   "id": "471b7eeb",
   "metadata": {},
   "outputs": [],
   "source": [
    "import numpy as np\n",
    "sec_return = np.log(stock_risk / stock_risk.shift(1))\n",
    "sec_return "
   ]
  },
  {
   "cell_type": "code",
   "execution_count": null,
   "id": "0287e0b6",
   "metadata": {},
   "outputs": [],
   "source": [
    "a=sec_return.mean() * 250 # annualized return\n",
    "a"
   ]
  },
  {
   "cell_type": "code",
   "execution_count": null,
   "id": "dad3e178",
   "metadata": {},
   "outputs": [],
   "source": [
    "b=sec_return.std()*250**0.5 # annulizaed risk\n",
    "b"
   ]
  },
  {
   "cell_type": "code",
   "execution_count": null,
   "id": "aec529a5",
   "metadata": {},
   "outputs": [],
   "source": [
    "np.array([a,b])"
   ]
  },
  {
   "cell_type": "code",
   "execution_count": null,
   "id": "9f69724d",
   "metadata": {},
   "outputs": [],
   "source": [
    "# benefit of diversification "
   ]
  },
  {
   "cell_type": "code",
   "execution_count": null,
   "id": "87756346",
   "metadata": {},
   "outputs": [],
   "source": [
    "# covariance and correlation\n",
    "sec_return['PG'].var()"
   ]
  },
  {
   "cell_type": "code",
   "execution_count": null,
   "id": "37ea13bb",
   "metadata": {},
   "outputs": [],
   "source": [
    "sec_return['BEI.DE'].var()"
   ]
  },
  {
   "cell_type": "code",
   "execution_count": null,
   "id": "a2461578",
   "metadata": {},
   "outputs": [],
   "source": [
    "sec_return['PG'].var() * 250"
   ]
  },
  {
   "cell_type": "code",
   "execution_count": null,
   "id": "1366ba27",
   "metadata": {},
   "outputs": [],
   "source": [
    "sec_return['BEI.DE'].var() * 250"
   ]
  },
  {
   "cell_type": "code",
   "execution_count": null,
   "id": "b941c1be",
   "metadata": {},
   "outputs": [],
   "source": [
    "sec_return.cov() * 250"
   ]
  },
  {
   "cell_type": "code",
   "execution_count": null,
   "id": "f4d84856",
   "metadata": {},
   "outputs": [],
   "source": [
    "sec_return.corr() # positively correlated, not strong correlation"
   ]
  },
  {
   "cell_type": "code",
   "execution_count": null,
   "id": "49b96c4a",
   "metadata": {},
   "outputs": [],
   "source": [
    "# portfolio variance\n",
    "import numpy as np\n",
    "weights = np.array([0.5,0.5])\n",
    "pfolio_var = np.dot(weights.T, np.dot(sec_return.cov()*250, weights))\n",
    "pfolio_var"
   ]
  },
  {
   "cell_type": "code",
   "execution_count": null,
   "id": "c6855e96",
   "metadata": {},
   "outputs": [],
   "source": [
    "# portfolio volatility\n",
    "pfolio_vol = np.dot(weights.T, np.dot(sec_return.cov()*250, weights)) ** 0.5\n",
    "pfolio_vol"
   ]
  },
  {
   "cell_type": "code",
   "execution_count": null,
   "id": "71c206de",
   "metadata": {},
   "outputs": [],
   "source": [
    "print (str(round(pfolio_vol, 5)*100) + ' %')"
   ]
  },
  {
   "cell_type": "code",
   "execution_count": null,
   "id": "2e3014e8",
   "metadata": {},
   "outputs": [],
   "source": [
    "# systematic risk that cannot be diversified (war,recession) \n",
    "# & idiosyncratic risk (diverfiable risk that can be avoided): construction, energy, automotive, technology"
   ]
  },
  {
   "cell_type": "code",
   "execution_count": null,
   "id": "f81b2e66",
   "metadata": {},
   "outputs": [],
   "source": [
    "# calculating diversified risk\n",
    "weights = np.array([0.5,0.5])\n",
    "PG_var_a = sec_return['PG'].var() * 250\n",
    "BEI_var_a = sec_return['BEI.DE'].var() * 250\n",
    "# dr = portfolio risk - weighted annual variance\n",
    "dr = pfolio_var - (weights[0] ** 2 * PG_var_a) - (weights[1] ** 2 * BEI_var_a)\n",
    "print (str(round(dr, 5)*100) + ' %')"
   ]
  },
  {
   "cell_type": "code",
   "execution_count": null,
   "id": "0060877c",
   "metadata": {},
   "outputs": [],
   "source": [
    "# non-diverfiable risk = porfolio risk - dr\n",
    "un_dr = pfolio_var - dr\n",
    "un_dr\n",
    "print (str(round(un_dr, 5)*100) + ' %')"
   ]
  },
  {
   "cell_type": "code",
   "execution_count": null,
   "id": "fe161dbd",
   "metadata": {},
   "outputs": [],
   "source": [
    "no_dr2 = (weights[0] ** 2 * PG_var_a) + (weights[1] ** 2 * BEI_var_a)\n",
    "no_dr2 == un_dr"
   ]
  },
  {
   "cell_type": "code",
   "execution_count": null,
   "id": "9eea6bb2",
   "metadata": {},
   "outputs": [],
   "source": [
    "# regression analysis: explanatory variable and dependent variable "
   ]
  },
  {
   "cell_type": "markdown",
   "id": "93581c43",
   "metadata": {},
   "source": [
    "#  simple regression: univariate regression"
   ]
  },
  {
   "cell_type": "code",
   "execution_count": null,
   "id": "62b17564",
   "metadata": {},
   "outputs": [],
   "source": [
    "import pandas as pd\n",
    "import numpy as np\n",
    "import matplotlib.pyplot as plt \n",
    "from scipy import stats\n",
    "import statsmodels.api as sm"
   ]
  },
  {
   "cell_type": "code",
   "execution_count": null,
   "id": "af6801a2",
   "metadata": {},
   "outputs": [],
   "source": [
    "data = pd.read_excel(\"/Users/ZHANGMIN/Desktop/Housing.xlsx\")"
   ]
  },
  {
   "cell_type": "code",
   "execution_count": null,
   "id": "18726cac",
   "metadata": {},
   "outputs": [],
   "source": [
    "data[['House Price','House Size (sq.ft.)']]"
   ]
  },
  {
   "cell_type": "code",
   "execution_count": null,
   "id": "c1e73e1f",
   "metadata": {},
   "outputs": [],
   "source": [
    "x = data[['House Size (sq.ft.)']]"
   ]
  },
  {
   "cell_type": "code",
   "execution_count": null,
   "id": "df597bbb",
   "metadata": {},
   "outputs": [],
   "source": [
    "y = data[['House Price']]\n"
   ]
  },
  {
   "cell_type": "code",
   "execution_count": null,
   "id": "4fced8be",
   "metadata": {},
   "outputs": [],
   "source": [
    "plt.scatter(x,y)\n",
    "plt.show()"
   ]
  },
  {
   "cell_type": "code",
   "execution_count": null,
   "id": "89df4ea6",
   "metadata": {},
   "outputs": [],
   "source": [
    "plt.scatter(x,y)\n",
    "plt.axis([0, 2500, 0, 1500000])\n",
    "plt.show()"
   ]
  },
  {
   "cell_type": "code",
   "execution_count": null,
   "id": "0753662a",
   "metadata": {},
   "outputs": [],
   "source": [
    "plt.scatter(x,y)\n",
    "plt.axis([0, 2500, 0, 1500000])\n",
    "plt.xlabel('housing size in sqft')\n",
    "plt.ylabel('housing price')\n",
    "plt.show()"
   ]
  },
  {
   "cell_type": "code",
   "execution_count": null,
   "id": "807ffd7b",
   "metadata": {},
   "outputs": [],
   "source": [
    "# regression is reliable?  y=alpha+beta*x+error (residuals)\n",
    "# R square: indicate total variability of all "
   ]
  },
  {
   "cell_type": "code",
   "execution_count": null,
   "id": "f7ca2bb2",
   "metadata": {},
   "outputs": [],
   "source": [
    "x1 = sm.add_constant(x)\n",
    "reg = sm.OLS(y, x1).fit()"
   ]
  },
  {
   "cell_type": "code",
   "execution_count": null,
   "id": "227e6374",
   "metadata": {},
   "outputs": [],
   "source": [
    "reg.summary()"
   ]
  },
  {
   "cell_type": "code",
   "execution_count": null,
   "id": "3f811b07",
   "metadata": {},
   "outputs": [],
   "source": [
    "# predictated model: 260800 + x * 402"
   ]
  },
  {
   "cell_type": "code",
   "execution_count": null,
   "id": "a5e76882",
   "metadata": {},
   "outputs": [],
   "source": [
    "# slope,intercept,r_value,p_value,std_err = stats.linregress(x,y)"
   ]
  },
  {
   "cell_type": "markdown",
   "id": "d06a5aba",
   "metadata": {},
   "source": [
    "# Markowitz Portfolio theory \n",
    "# obtain efficient frontier in MPT"
   ]
  },
  {
   "cell_type": "code",
   "execution_count": null,
   "id": "8962accc",
   "metadata": {},
   "outputs": [],
   "source": [
    "import numpy as np\n",
    "import pandas as pd\n",
    "import matplotlib.pyplot as plt\n",
    "from pandas_datareader import data as wb\n",
    "%matplotlib inline"
   ]
  },
  {
   "cell_type": "code",
   "execution_count": null,
   "id": "8da06812",
   "metadata": {},
   "outputs": [],
   "source": [
    "## inline: store matplotlib graphs in the notebook"
   ]
  },
  {
   "cell_type": "code",
   "execution_count": null,
   "id": "36343805",
   "metadata": {},
   "outputs": [],
   "source": [
    "assets = ['PG','^GSPC']\n",
    "pf_data = pd.DataFrame()\n",
    "for a in assets:\n",
    "    pf_data[a] = wb.DataReader(a, data_source='yahoo', start='2010-01-01')['Adj Close']\n",
    "pf_data"
   ]
  },
  {
   "cell_type": "code",
   "execution_count": null,
   "id": "265a66f0",
   "metadata": {
    "scrolled": true
   },
   "outputs": [],
   "source": [
    "# normalize data\n",
    "(pf_data/pf_data.iloc[0]).plot(figsize=(10,5))\n",
    "plt.show()"
   ]
  },
  {
   "cell_type": "code",
   "execution_count": null,
   "id": "5f0565ed",
   "metadata": {},
   "outputs": [],
   "source": [
    "log_returns = np.log(pf_data / pf_data.shift(1))\n",
    "log_returns.mean() * 250 # annualized log return "
   ]
  },
  {
   "cell_type": "code",
   "execution_count": null,
   "id": "0079143c",
   "metadata": {},
   "outputs": [],
   "source": [
    "log_returns.cov()"
   ]
  },
  {
   "cell_type": "code",
   "execution_count": null,
   "id": "20b37b4b",
   "metadata": {},
   "outputs": [],
   "source": [
    "log_returns.corr()"
   ]
  },
  {
   "cell_type": "code",
   "execution_count": null,
   "id": "342f2f5b",
   "metadata": {},
   "outputs": [],
   "source": [
    "num_assets = len(assets)\n",
    "weights = np.random.random(num_assets)\n",
    "#arr[0] + arr[1]  # not equal to 1 \n",
    "weights = weights / np.sum(weights)\n",
    "weights[0] + weights[1] # normalize to be 1 "
   ]
  },
  {
   "cell_type": "code",
   "execution_count": null,
   "id": "8c98f668",
   "metadata": {},
   "outputs": [],
   "source": [
    "# expected portfolio return\n",
    "np.sum(weights*log_returns.mean()) * 250"
   ]
  },
  {
   "cell_type": "code",
   "execution_count": null,
   "id": "6d462546",
   "metadata": {},
   "outputs": [],
   "source": [
    "# expected portfolio variance\n",
    "np.dot(weights.T, np.dot(log_returns.cov()*250, weights))"
   ]
  },
  {
   "cell_type": "code",
   "execution_count": null,
   "id": "42050542",
   "metadata": {},
   "outputs": [],
   "source": [
    "# expected portfolio volatility:\n",
    "np.sqrt(np.dot(weights.T, np.dot(log_returns.cov()*250, weights)))"
   ]
  },
  {
   "cell_type": "code",
   "execution_count": null,
   "id": "64da93ce",
   "metadata": {},
   "outputs": [],
   "source": [
    "pfolio_returns = []\n",
    "pfolio_volatility = []\n",
    "for i in range(1000):\n",
    "    weights = np.random.random(num_assets)\n",
    "    weights = weights / np.sum(weights)\n",
    "    pfolio_returns.append(np.sum(weights*log_returns.mean()) * 250)\n",
    "    pfolio_volatility.append(np.sqrt(np.dot(weights.T, np.dot(log_returns.cov()*250, weights))))\n",
    "    \n",
    "pfolio_returns = np.array(pfolio_returns)\n",
    "pfolio_volatility = np.array(pfolio_volatility)\n",
    "\n",
    "pfolio_returns, pfolio_volatility \n",
    "    "
   ]
  },
  {
   "cell_type": "code",
   "execution_count": null,
   "id": "22e9e5d8",
   "metadata": {},
   "outputs": [],
   "source": [
    "y = pfolio_returns\n",
    "x = pfolio_volatility \n",
    "plt.scatter(x,y)"
   ]
  },
  {
   "cell_type": "code",
   "execution_count": null,
   "id": "da3b9f24",
   "metadata": {},
   "outputs": [],
   "source": [
    "portfolios = pd.DataFrame({'Returns': pfolio_returns, 'Volatility': pfolio_volatility})\n",
    "portfolios.plot(x='Volatility', y='Returns', kind='scatter',figsize=(10,5))\n",
    "plt.xlabel('expected volatility')\n",
    "plt.ylabel('expected returns')  # efficient frontier"
   ]
  },
  {
   "cell_type": "markdown",
   "id": "9acdf468",
   "metadata": {},
   "source": [
    "# Capital Asset Pricing Model (CAPM)"
   ]
  },
  {
   "cell_type": "code",
   "execution_count": null,
   "id": "89bdcc1e",
   "metadata": {},
   "outputs": [],
   "source": [
    "# nature: risk-averse, prefer higher returns, willing to buy optimal portfolio"
   ]
  },
  {
   "cell_type": "code",
   "execution_count": null,
   "id": "e837e7ec",
   "metadata": {},
   "outputs": [],
   "source": [
    "# measuring Beta\n",
    "# beta = cov(x1, market) / var(market)\n",
    "# beta=0: no relationship, beta<1: defensive, beta>1: aggresive"
   ]
  },
  {
   "cell_type": "code",
   "execution_count": null,
   "id": "c219a276",
   "metadata": {},
   "outputs": [],
   "source": [
    "import pandas as pd\n",
    "import numpy as np\n",
    "from pandas_datareader import data as wb\n",
    "import matplotlib.pyplot as plt\n",
    "\n",
    "a = ['PG', '^GSPC']\n",
    "mydata = pd.DataFrame()\n",
    "for e in a:\n",
    "    mydata[e] = wb.DataReader(e,data_source='yahoo',start='2017-01-01')['Adj Close']"
   ]
  },
  {
   "cell_type": "code",
   "execution_count": null,
   "id": "eec8218e",
   "metadata": {},
   "outputs": [],
   "source": [
    "sec_returns = np.log(mydata/mydata.shift(1))\n",
    "cov = sec_returns.cov() * 250\n",
    "cov_with_market = cov.iloc[0,1]\n",
    "market_var = sec_returns['^GSPC'].var() * 250\n",
    "print(cov)\n",
    "print(market_var)"
   ]
  },
  {
   "cell_type": "markdown",
   "id": "7cdf86be",
   "metadata": {},
   "source": [
    "# Beta"
   ]
  },
  {
   "cell_type": "code",
   "execution_count": null,
   "id": "57d4c231",
   "metadata": {},
   "outputs": [],
   "source": [
    "PG_beta = cov_with_market / market_var\n",
    "PG_beta"
   ]
  },
  {
   "cell_type": "markdown",
   "id": "2846e0c1",
   "metadata": {},
   "source": [
    "# Calculating CAPM\n",
    "# r = r_f + beta (r_m - r_f) "
   ]
  },
  {
   "cell_type": "code",
   "execution_count": null,
   "id": "fa73eb72",
   "metadata": {},
   "outputs": [],
   "source": [
    "PG_er = 0.025 + PG_beta * 0.05\n",
    "print (str(round(PG_er, 5)*100) +'%')"
   ]
  },
  {
   "cell_type": "markdown",
   "id": "1f863542",
   "metadata": {},
   "source": [
    "# Sharpe ratio = (r_stock - r_f) / std(stock)"
   ]
  },
  {
   "cell_type": "code",
   "execution_count": null,
   "id": "0824d415",
   "metadata": {},
   "outputs": [],
   "source": [
    "sharpe_ratio = (PG_er - 0.025) / (sec_return['PG'].std() * 250 ** 0.5)\n",
    "sharpe_ratio"
   ]
  },
  {
   "cell_type": "markdown",
   "id": "67bd0496",
   "metadata": {},
   "source": [
    "# Alpha "
   ]
  },
  {
   "cell_type": "markdown",
   "id": "23e052c4",
   "metadata": {},
   "source": [
    "# Multivariate regressions"
   ]
  },
  {
   "cell_type": "code",
   "execution_count": null,
   "id": "1a86d712",
   "metadata": {},
   "outputs": [],
   "source": [
    "import numpy as np\n",
    "import pandas as pd\n",
    "from scipy import stats\n",
    "import statsmodels.api as sm\n",
    "import matplotlib.pyplot as plt"
   ]
  },
  {
   "cell_type": "code",
   "execution_count": null,
   "id": "b5c3e4cc",
   "metadata": {},
   "outputs": [],
   "source": [
    "data_2 = pd.read_excel(\"/Users/ZHANGMIN/Desktop/Housing.xlsx\")"
   ]
  },
  {
   "cell_type": "code",
   "execution_count": null,
   "id": "e304a6dd",
   "metadata": {},
   "outputs": [],
   "source": [
    "x = data_2[['House Size (sq.ft.)', 'Number of Rooms', 'Year of Construction']]\n",
    "y = data_2[['House Price']]"
   ]
  },
  {
   "cell_type": "code",
   "execution_count": null,
   "id": "a40ca180",
   "metadata": {},
   "outputs": [],
   "source": [
    "x_1 = sm.add_constant(x)\n",
    "reg_2 = sm.OLS(y, x_1).fit()\n",
    "reg_2.summary()"
   ]
  },
  {
   "cell_type": "code",
   "execution_count": null,
   "id": "a99cdcce",
   "metadata": {},
   "outputs": [],
   "source": [
    "# statisticlly insignificant, we do separate regression models\n",
    "x_a = data_2[['House Size (sq.ft.)', 'Number of Rooms']]\n",
    "x_b = sm.add_constant(x_a)\n",
    "reg_3 = sm.OLS(y, x_b).fit()\n",
    "reg_3.summary()"
   ]
  },
  {
   "cell_type": "code",
   "execution_count": null,
   "id": "9aa6aefd",
   "metadata": {},
   "outputs": [],
   "source": [
    "x_a1 = data_2[['House Size (sq.ft.)', 'Year of Construction']]\n",
    "x_b1 = sm.add_constant(x_a1)\n",
    "reg_4 = sm.OLS(y, x_b1).fit()\n",
    "reg_4.summary()  "
   ]
  },
  {
   "cell_type": "code",
   "execution_count": null,
   "id": "d57c5eea",
   "metadata": {},
   "outputs": [],
   "source": [
    "# check R-squared, p-value, gather more explanatory variables, gather larger dataset"
   ]
  },
  {
   "cell_type": "markdown",
   "id": "1bdc0d29",
   "metadata": {},
   "source": [
    "### Technical analysis "
   ]
  },
  {
   "cell_type": "code",
   "execution_count": null,
   "id": "87ad2db7",
   "metadata": {},
   "outputs": [],
   "source": [
    "# 1. There are rational and irrational market participants. Bearish and bullish\n",
    "# 2. Technical analysis presents the study of collective investor's psychology and sentiment\n",
    "# 3. Projecting the future price of a security by studying past investor's behavior \n",
    "\n",
    "# Applications: commodity, currency and futures. \n",
    "# on a stand-alone basis or in combination with fundamental analysis"
   ]
  },
  {
   "cell_type": "code",
   "execution_count": null,
   "id": "cfef63b3",
   "metadata": {},
   "outputs": [],
   "source": [
    "# charts used in technical analysis \n",
    "# line charts, bar charts (volatility), candlestick chart, point and figure chart\n",
    "# trading volume graph, relative strength analysis \n",
    "# Trend, support and resistance lines\n",
    "# support and resistance lines, cap or ceiling level\n",
    "# change in polarity: support level is reached"
   ]
  },
  {
   "cell_type": "code",
   "execution_count": null,
   "id": "e6644f65",
   "metadata": {},
   "outputs": [],
   "source": [
    "# common chart patterns:\n",
    "# head and shoulders: T= N - (H-N) ; T: target price, H: head, N: neck price\n",
    "# Inverse head and shoulders: T = N + (H-N) "
   ]
  },
  {
   "cell_type": "code",
   "execution_count": null,
   "id": "1eddf2d8",
   "metadata": {},
   "outputs": [],
   "source": [
    "# price indicators\n",
    "# Moving average: ave of closing price of a security over a given time period\n",
    "# less volatile\n",
    "# long-term moving average cross short-term: bullish\n",
    "# inversely, death cross, bearish\n",
    "\n",
    "# Bollinger bands: lower, middle, and upper bands"
   ]
  }
 ],
 "metadata": {
  "kernelspec": {
   "display_name": "Python 3",
   "language": "python",
   "name": "python3"
  },
  "language_info": {
   "codemirror_mode": {
    "name": "ipython",
    "version": 3
   },
   "file_extension": ".py",
   "mimetype": "text/x-python",
   "name": "python",
   "nbconvert_exporter": "python",
   "pygments_lexer": "ipython3",
   "version": "3.8.8"
  }
 },
 "nbformat": 4,
 "nbformat_minor": 5
}
