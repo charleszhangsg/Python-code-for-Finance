{
 "cells": [
  {
   "cell_type": "markdown",
   "id": "22d8fa06",
   "metadata": {},
   "source": [
    "# Numpy"
   ]
  },
  {
   "cell_type": "markdown",
   "id": "b30c489d",
   "metadata": {},
   "source": [
    "# numpy array"
   ]
  },
  {
   "cell_type": "code",
   "execution_count": null,
   "id": "49e05eba",
   "metadata": {},
   "outputs": [],
   "source": [
    "import numpy as np\n",
    "a = np.array([[1,2,3],[4,5,8]])\n",
    "a.shape"
   ]
  },
  {
   "cell_type": "code",
   "execution_count": null,
   "id": "53e6cec0",
   "metadata": {},
   "outputs": [],
   "source": [
    "a.reshape((3,2)).shape"
   ]
  },
  {
   "cell_type": "code",
   "execution_count": null,
   "id": "0f5fda25",
   "metadata": {},
   "outputs": [],
   "source": [
    "np.arange(0,9,0.5).shape"
   ]
  },
  {
   "cell_type": "code",
   "execution_count": null,
   "id": "fb4f3035",
   "metadata": {},
   "outputs": [],
   "source": [
    "np.arange(5)"
   ]
  },
  {
   "cell_type": "code",
   "execution_count": null,
   "id": "6259812a",
   "metadata": {},
   "outputs": [],
   "source": [
    "b = np.array([[3,2,34],[63,323,7],[-32,346,12]])\n",
    "b"
   ]
  },
  {
   "cell_type": "code",
   "execution_count": null,
   "id": "bc305906",
   "metadata": {},
   "outputs": [],
   "source": [
    "np.sort(b)"
   ]
  },
  {
   "cell_type": "code",
   "execution_count": null,
   "id": "586d910c",
   "metadata": {},
   "outputs": [],
   "source": [
    "np.sort(b,axis=0)  # axis: 0 is column and 1 is row"
   ]
  },
  {
   "cell_type": "code",
   "execution_count": null,
   "id": "9d24d12e",
   "metadata": {},
   "outputs": [],
   "source": [
    "print(b[:,1])  # retrieve a column\n",
    "print(b[2]) # retrieve a row"
   ]
  },
  {
   "cell_type": "code",
   "execution_count": null,
   "id": "fd47aa11",
   "metadata": {},
   "outputs": [],
   "source": [
    "np_eye = np.eye(4,5,1) # N: number of rows, M: number of columns default is N, K: diagonal index\n",
    "print(np_eye, end='\\n')\n",
    "np_eye_2 = np.eye(4,5)\n",
    "print(np_eye_2)"
   ]
  },
  {
   "cell_type": "code",
   "execution_count": null,
   "id": "c78d5811",
   "metadata": {},
   "outputs": [],
   "source": [
    "np_eye[np_eye==1] = 2  # change values in the cell\n",
    "np_eye"
   ]
  },
  {
   "cell_type": "code",
   "execution_count": null,
   "id": "976417c0",
   "metadata": {},
   "outputs": [],
   "source": [
    "print(np.copy(b))  \n",
    "print(b.view()) # change of values will affect the orginal array"
   ]
  },
  {
   "cell_type": "code",
   "execution_count": null,
   "id": "45ae16ad",
   "metadata": {},
   "outputs": [],
   "source": [
    "b.view()[:] = 50\n",
    "b"
   ]
  },
  {
   "cell_type": "code",
   "execution_count": null,
   "id": "e16636bb",
   "metadata": {
    "scrolled": true
   },
   "outputs": [],
   "source": [
    "b_copy = b.copy()[:] = 50\n",
    "print(b)\n",
    "print(b_copy)"
   ]
  },
  {
   "cell_type": "code",
   "execution_count": null,
   "id": "bd004dd5",
   "metadata": {},
   "outputs": [],
   "source": [
    "import numpy as np\n",
    "a = np.array([9,8,7,4])"
   ]
  },
  {
   "cell_type": "code",
   "execution_count": null,
   "id": "b6f69804",
   "metadata": {},
   "outputs": [],
   "source": [
    "np.flip(a)"
   ]
  },
  {
   "cell_type": "code",
   "execution_count": null,
   "id": "3162dce2",
   "metadata": {},
   "outputs": [],
   "source": [
    "np.arange(1,10,0.5) # start, stop, iteration"
   ]
  },
  {
   "cell_type": "code",
   "execution_count": 2,
   "id": "06479980",
   "metadata": {},
   "outputs": [
    {
     "name": "stdout",
     "output_type": "stream",
     "text": [
      "[1.4, 343, 0, 29, 1]\n"
     ]
    }
   ],
   "source": [
    "# reverse a list\n",
    "rev = [1,29,0,343,1.4]\n",
    "rev.reverse()\n",
    "print(rev)"
   ]
  },
  {
   "cell_type": "code",
   "execution_count": 5,
   "id": "f3d99af3",
   "metadata": {},
   "outputs": [
    {
     "data": {
      "text/plain": [
       "[1, 343]"
      ]
     },
     "execution_count": 5,
     "metadata": {},
     "output_type": "execute_result"
    }
   ],
   "source": [
    "rev[::-3]"
   ]
  },
  {
   "cell_type": "code",
   "execution_count": null,
   "id": "daacda56",
   "metadata": {},
   "outputs": [],
   "source": [
    "import numpy as np"
   ]
  },
  {
   "cell_type": "code",
   "execution_count": null,
   "id": "c40b606c",
   "metadata": {},
   "outputs": [],
   "source": [
    "a = np.array([[1,2,3],[4,5,8]], dtype='int16') # dtype='int32'\n",
    "a"
   ]
  },
  {
   "cell_type": "code",
   "execution_count": null,
   "id": "1d4c2e9f",
   "metadata": {},
   "outputs": [],
   "source": [
    "a.ndim  # get dimension"
   ]
  },
  {
   "cell_type": "code",
   "execution_count": null,
   "id": "da48528b",
   "metadata": {},
   "outputs": [],
   "source": [
    "a.nbytes"
   ]
  },
  {
   "cell_type": "code",
   "execution_count": null,
   "id": "a7c515d6",
   "metadata": {},
   "outputs": [],
   "source": [
    "a.itemsize"
   ]
  },
  {
   "cell_type": "code",
   "execution_count": null,
   "id": "8fecab88",
   "metadata": {},
   "outputs": [],
   "source": [
    "a.dtype"
   ]
  },
  {
   "cell_type": "code",
   "execution_count": null,
   "id": "1082d6be",
   "metadata": {},
   "outputs": [],
   "source": [
    "# access row and columns ...\n",
    "a = np.array([[1,2,3,4,6],[4,5,8,19,44]])\n",
    "a[1][4]"
   ]
  },
  {
   "cell_type": "code",
   "execution_count": null,
   "id": "cdab7b95",
   "metadata": {},
   "outputs": [],
   "source": [
    "a[:,1]"
   ]
  },
  {
   "cell_type": "code",
   "execution_count": null,
   "id": "3e7882c4",
   "metadata": {},
   "outputs": [],
   "source": [
    "# access based on ur preference    [startindex:endindex:stepsize]\n",
    "a[1, 0:5:2]"
   ]
  },
  {
   "cell_type": "code",
   "execution_count": null,
   "id": "d0e4d7c2",
   "metadata": {},
   "outputs": [],
   "source": [
    "# change 5 to be 6\n",
    "a[1,1] = 6\n",
    "a"
   ]
  },
  {
   "cell_type": "code",
   "execution_count": null,
   "id": "dae1864a",
   "metadata": {},
   "outputs": [],
   "source": [
    "# change the whole row\n",
    "a[1,:] = [10,12,14,16,18]\n",
    "a"
   ]
  },
  {
   "cell_type": "code",
   "execution_count": null,
   "id": "36c2b202",
   "metadata": {},
   "outputs": [],
   "source": [
    "# change the whole column\n",
    "a[:, 0] = [0,2]\n",
    "a"
   ]
  },
  {
   "cell_type": "code",
   "execution_count": null,
   "id": "b59c0b8c",
   "metadata": {},
   "outputs": [],
   "source": [
    "b=np.array([[[1,2],[3,4]],[[5,6], [7,8]]])\n",
    "b"
   ]
  },
  {
   "cell_type": "code",
   "execution_count": null,
   "id": "2b4f0aea",
   "metadata": {},
   "outputs": [],
   "source": [
    "b[1,1,1]"
   ]
  },
  {
   "cell_type": "code",
   "execution_count": null,
   "id": "9302b062",
   "metadata": {},
   "outputs": [],
   "source": [
    "# different types of arrays\n",
    "np.zeros((2,3))"
   ]
  },
  {
   "cell_type": "code",
   "execution_count": null,
   "id": "8e9eb736",
   "metadata": {},
   "outputs": [],
   "source": [
    "np.ones((3,3))"
   ]
  },
  {
   "cell_type": "code",
   "execution_count": null,
   "id": "fca721c6",
   "metadata": {},
   "outputs": [],
   "source": [
    "np.full((2,2), 99) # initialize with any number   ((size), num)"
   ]
  },
  {
   "cell_type": "code",
   "execution_count": null,
   "id": "728d5ba0",
   "metadata": {},
   "outputs": [],
   "source": [
    "print(np.full_like(a, 99))\n",
    "# or \n",
    "print(np.full(a.shape, 99))"
   ]
  },
  {
   "cell_type": "code",
   "execution_count": null,
   "id": "b594d091",
   "metadata": {},
   "outputs": [],
   "source": [
    "# random decimal num\n",
    "np.random.rand(4,2,3)  # get a random number between 0 and 1 "
   ]
  },
  {
   "cell_type": "code",
   "execution_count": null,
   "id": "b9143305",
   "metadata": {},
   "outputs": [],
   "source": [
    "np.random.random_sample(a.shape)  # random_sample"
   ]
  },
  {
   "cell_type": "code",
   "execution_count": null,
   "id": "e85e24ef",
   "metadata": {},
   "outputs": [],
   "source": [
    "# random int\n",
    "np.random.randint(4,10,size=(3,3))  # end num is exclusive"
   ]
  },
  {
   "cell_type": "code",
   "execution_count": null,
   "id": "a7e66282",
   "metadata": {},
   "outputs": [],
   "source": [
    "np.identity(5)"
   ]
  },
  {
   "cell_type": "code",
   "execution_count": null,
   "id": "0f351a00",
   "metadata": {},
   "outputs": [],
   "source": [
    "a\n",
    "a1 = np.repeat(a, 3, axis=0)  # repeat an array\n",
    "a1"
   ]
  },
  {
   "cell_type": "code",
   "execution_count": null,
   "id": "3078b9ab",
   "metadata": {},
   "outputs": [],
   "source": [
    "final = np.ones([5,5])\n",
    "zeros = np.zeros([3,3])\n",
    "zeros[1,1] = 9\n",
    "zeros \n",
    "final[1:4, 1:4] = zeros\n",
    "final"
   ]
  },
  {
   "cell_type": "markdown",
   "id": "a48df129",
   "metadata": {},
   "source": [
    "#### copying arrays"
   ]
  },
  {
   "cell_type": "code",
   "execution_count": null,
   "id": "70cb20d5",
   "metadata": {},
   "outputs": [],
   "source": [
    "a=np.array([1,2,3])\n",
    "b=a.copy()\n",
    "b[0] = 100\n",
    "print(a)\n",
    "print(b)"
   ]
  },
  {
   "cell_type": "markdown",
   "id": "632149d6",
   "metadata": {},
   "source": [
    "### np mathematics"
   ]
  },
  {
   "cell_type": "code",
   "execution_count": null,
   "id": "ab18cf5e",
   "metadata": {},
   "outputs": [],
   "source": [
    "a1=np.array([1,2,3,4])\n",
    "b1=np.array([6,7,8,9])\n",
    "a1+b1"
   ]
  },
  {
   "cell_type": "code",
   "execution_count": null,
   "id": "2cc11a0a",
   "metadata": {},
   "outputs": [],
   "source": [
    "# sin\n",
    "np.sin(a1)\n",
    "np.cos(b1)"
   ]
  },
  {
   "cell_type": "markdown",
   "id": "5a063955",
   "metadata": {},
   "source": [
    "### linear algebra"
   ]
  },
  {
   "cell_type": "code",
   "execution_count": null,
   "id": "2cd81ec5",
   "metadata": {},
   "outputs": [],
   "source": [
    "a1=np.array([1,2,3,4])\n",
    "b1=np.array([[2],[4],[1], [9]])\n",
    "np.matmul(a1,b1)  # matrix multiplication"
   ]
  },
  {
   "cell_type": "code",
   "execution_count": null,
   "id": "585e1e6f",
   "metadata": {},
   "outputs": [],
   "source": [
    "c = np.identity(3)\n",
    "np.linalg.det(c)  # find determinate "
   ]
  },
  {
   "cell_type": "code",
   "execution_count": null,
   "id": "1ce035ae",
   "metadata": {},
   "outputs": [],
   "source": []
  },
  {
   "cell_type": "markdown",
   "id": "b3f7d639",
   "metadata": {},
   "source": [
    "### statistics"
   ]
  },
  {
   "cell_type": "code",
   "execution_count": null,
   "id": "e1d08ad1",
   "metadata": {},
   "outputs": [],
   "source": [
    "stats = np.array([[1,2,3], [4,5,6]])\n",
    "stats"
   ]
  },
  {
   "cell_type": "code",
   "execution_count": null,
   "id": "eb41fad4",
   "metadata": {},
   "outputs": [],
   "source": [
    "np.min(stats, axis=1)  # min and max of an array"
   ]
  },
  {
   "cell_type": "code",
   "execution_count": null,
   "id": "015a471d",
   "metadata": {},
   "outputs": [],
   "source": [
    "np.max(stats)"
   ]
  },
  {
   "cell_type": "code",
   "execution_count": null,
   "id": "f36d4541",
   "metadata": {},
   "outputs": [],
   "source": [
    "np.sum(stats)"
   ]
  },
  {
   "cell_type": "code",
   "execution_count": null,
   "id": "89d14530",
   "metadata": {},
   "outputs": [],
   "source": []
  },
  {
   "cell_type": "markdown",
   "id": "774bf67b",
   "metadata": {},
   "source": [
    "#### reorganizing arrays"
   ]
  },
  {
   "cell_type": "code",
   "execution_count": null,
   "id": "390c98f9",
   "metadata": {},
   "outputs": [],
   "source": [
    "b4 = np.array([[1,2,3], [4,5,6]])\n",
    "b4.reshape(3,2)  # reshape()"
   ]
  },
  {
   "cell_type": "code",
   "execution_count": null,
   "id": "9928445b",
   "metadata": {},
   "outputs": [],
   "source": [
    "# vertically stack vectors\n",
    "b1 = np.array([1,2,3,4])\n",
    "b2 = np.array([5,6,7,8])\n",
    "np.vstack((b1,b2))"
   ]
  },
  {
   "cell_type": "code",
   "execution_count": null,
   "id": "dcba0d56",
   "metadata": {},
   "outputs": [],
   "source": [
    "# horizontal stack \n",
    "b3= np.zeros((2,2))\n",
    "b4=np.ones((2,2))\n",
    "n1=np.hstack((b3,b4))   # how to convert to int\n",
    "n2=n1.astype('int32') # convert float to int\n",
    "n2"
   ]
  },
  {
   "cell_type": "markdown",
   "id": "02c2bb13",
   "metadata": {},
   "source": [
    "### load data from file"
   ]
  },
  {
   "cell_type": "code",
   "execution_count": null,
   "id": "d9ff7151",
   "metadata": {},
   "outputs": [],
   "source": [
    "filedata=np.genfromtxt('/Users/ZHANGMIN/Desktop/data.txt', delimiter=',')\n",
    "filedata = filedata.astype('int32')\n",
    "filedata"
   ]
  },
  {
   "cell_type": "code",
   "execution_count": null,
   "id": "48687914",
   "metadata": {},
   "outputs": [],
   "source": []
  },
  {
   "cell_type": "code",
   "execution_count": null,
   "id": "eb47e1e5",
   "metadata": {},
   "outputs": [],
   "source": []
  },
  {
   "cell_type": "markdown",
   "id": "649e57c5",
   "metadata": {},
   "source": [
    "### Boolean Masking and Advanced Indexing"
   ]
  },
  {
   "cell_type": "code",
   "execution_count": null,
   "id": "5b3d7767",
   "metadata": {},
   "outputs": [],
   "source": [
    "filedata[filedata > 50]"
   ]
  },
  {
   "cell_type": "code",
   "execution_count": null,
   "id": "2f636489",
   "metadata": {},
   "outputs": [],
   "source": [
    "a=np.array([1,13,21,11,196,75,4])  # index with a list in np \n",
    "print(a[[1,3,-1]]) \n",
    "print(a[[False, True, False,True,False,False,True]])"
   ]
  },
  {
   "cell_type": "code",
   "execution_count": null,
   "id": "4c69f9c3",
   "metadata": {},
   "outputs": [],
   "source": [
    "np.any(filedata > 50, axis=0)"
   ]
  },
  {
   "cell_type": "code",
   "execution_count": null,
   "id": "f69ff304",
   "metadata": {},
   "outputs": [],
   "source": [
    "((filedata>50)&(filedata<100))  # multiple conditions"
   ]
  },
  {
   "cell_type": "code",
   "execution_count": null,
   "id": "60f8527f",
   "metadata": {},
   "outputs": [],
   "source": [
    "# reverse of the previous conditions\n",
    "(~((filedata>50)&(filedata<100)))"
   ]
  },
  {
   "cell_type": "code",
   "execution_count": null,
   "id": "226f6140",
   "metadata": {},
   "outputs": [],
   "source": [
    "filedata[[0,1,2],[0,1,2]]"
   ]
  },
  {
   "cell_type": "code",
   "execution_count": null,
   "id": "1bc97320",
   "metadata": {},
   "outputs": [],
   "source": [
    "t=np.array([[1,2,3,4,5], [6,7,8,9,10],[11,12,13,14,15],[16,17,18,19,20],[21,22,23,24,25],[26,27,28,29,30]])\n",
    "t[[0,4,5],3:]"
   ]
  },
  {
   "cell_type": "code",
   "execution_count": null,
   "id": "2b8c9023",
   "metadata": {},
   "outputs": [],
   "source": [
    "t[2:4,0:2]"
   ]
  },
  {
   "cell_type": "code",
   "execution_count": null,
   "id": "f689e184",
   "metadata": {},
   "outputs": [],
   "source": [
    "t[[0,1,2,3], [1,2,3,4]]"
   ]
  },
  {
   "cell_type": "code",
   "execution_count": null,
   "id": "94741f36",
   "metadata": {},
   "outputs": [],
   "source": [
    "import numpy as np\n",
    "a=np.array([[1,2,3], [4,5,6]])\n",
    "b=np.array([[7,8], [9,10],[11,12]])\n",
    "np.dot(a,b)  # dot product"
   ]
  },
  {
   "cell_type": "markdown",
   "id": "ae64dff6",
   "metadata": {},
   "source": [
    "### Matrix"
   ]
  },
  {
   "cell_type": "code",
   "execution_count": null,
   "id": "8b460647",
   "metadata": {},
   "outputs": [],
   "source": [
    "#a=np.array([[1,-0.8708,0.7529],[-0.8708,1,-0.96890],[0.7529,-0.9689,1]])\n",
    "\n",
    "# dot product\n",
    "\n",
    "a=np.array([[0.0937,-0.3729,0.3092],[-0.3729,1.9571,1.8189],[0.3092,-1.8189,1.8009]])\n",
    "b=np.array([[-64.2007],[-52.6743],[-42.2025]])\n",
    "res=np.dot(a,b)\n",
    "res"
   ]
  },
  {
   "cell_type": "code",
   "execution_count": null,
   "id": "66a71637",
   "metadata": {},
   "outputs": [],
   "source": [
    "# matrix addition\n",
    "a1= np.array([[1,2,3], [4,5,6]])\n",
    "a2= np.array([[7,8,9], [10,11,12]])\n",
    "c = a1+a2\n",
    "c"
   ]
  },
  {
   "cell_type": "code",
   "execution_count": null,
   "id": "6480d349",
   "metadata": {},
   "outputs": [],
   "source": [
    "b1=np.array([[1,2,3], [4,5,6]])\n",
    "t1=np.transpose(b1)\n",
    "t1"
   ]
  },
  {
   "cell_type": "code",
   "execution_count": null,
   "id": "909e664d",
   "metadata": {},
   "outputs": [],
   "source": [
    "# matrix slice\n",
    "\n",
    "c1=np.array([1,2,3,12,93,23,21,23,231])\n",
    "print(c1[1:7])\n",
    "print(c1[-8:-2])\n",
    "print(c1[::-1]) # reversing a list\n",
    "print(np.flip(c1))  # reversing a list"
   ]
  },
  {
   "cell_type": "code",
   "execution_count": null,
   "id": "776c067c",
   "metadata": {},
   "outputs": [],
   "source": [
    "c1[::-2]"
   ]
  },
  {
   "cell_type": "code",
   "execution_count": 5,
   "id": "c9dbbe11",
   "metadata": {},
   "outputs": [
    {
     "data": {
      "text/plain": [
       "True"
      ]
     },
     "execution_count": 5,
     "metadata": {},
     "output_type": "execute_result"
    }
   ],
   "source": [
    "name = {'I': 1, \n",
    "        'V': 5,\n",
    "        'X': 10,\n",
    "        'L': 50,\n",
    "        'C': 100,\n",
    "        'D': 500,\n",
    "        'M': 1000,\n",
    "        'IV':4,\n",
    "        'IX':9,\n",
    "        'XL':40,\n",
    "        'XC':90,\n",
    "        'CD':400,\n",
    "        'CM':900}\n",
    "'I' in name"
   ]
  },
  {
   "cell_type": "markdown",
   "id": "1ba8aae8",
   "metadata": {},
   "source": [
    "### Mischelleous"
   ]
  },
  {
   "cell_type": "code",
   "execution_count": 8,
   "id": "c401c3c9",
   "metadata": {},
   "outputs": [
    {
     "data": {
      "text/plain": [
       "[0, 1]"
      ]
     },
     "execution_count": 8,
     "metadata": {},
     "output_type": "execute_result"
    }
   ],
   "source": [
    "a=[0,1,2,32,1]\n",
    "a[0:2]"
   ]
  },
  {
   "cell_type": "code",
   "execution_count": 9,
   "id": "9fdbf4a2",
   "metadata": {},
   "outputs": [
    {
     "data": {
      "text/plain": [
       "int"
      ]
     },
     "execution_count": 9,
     "metadata": {},
     "output_type": "execute_result"
    }
   ],
   "source": [
    "type(11)"
   ]
  },
  {
   "cell_type": "code",
   "execution_count": 15,
   "id": "217d1091",
   "metadata": {},
   "outputs": [
    {
     "data": {
      "text/plain": [
       "str"
      ]
     },
     "execution_count": 15,
     "metadata": {},
     "output_type": "execute_result"
    }
   ],
   "source": [
    "a=str(11)\n",
    "type(a[::-1])"
   ]
  },
  {
   "cell_type": "code",
   "execution_count": 17,
   "id": "f9ca2abb",
   "metadata": {},
   "outputs": [
    {
     "data": {
      "text/plain": [
       "'f'"
      ]
     },
     "execution_count": 17,
     "metadata": {},
     "output_type": "execute_result"
    }
   ],
   "source": [
    "st = ['flower', 'floor', 'flaw']\n",
    "st[0][0]"
   ]
  },
  {
   "cell_type": "code",
   "execution_count": 18,
   "id": "4b5d9985",
   "metadata": {},
   "outputs": [
    {
     "data": {
      "text/plain": [
       "['a']"
      ]
     },
     "execution_count": 18,
     "metadata": {},
     "output_type": "execute_result"
    }
   ],
   "source": [
    "a=[]\n",
    "a.append('a')\n",
    "a"
   ]
  },
  {
   "cell_type": "code",
   "execution_count": 19,
   "id": "eb923889",
   "metadata": {},
   "outputs": [
    {
     "data": {
      "text/plain": [
       "['a', 'b']"
      ]
     },
     "execution_count": 19,
     "metadata": {},
     "output_type": "execute_result"
    }
   ],
   "source": [
    "a.append('b')\n",
    "a"
   ]
  },
  {
   "cell_type": "code",
   "execution_count": 23,
   "id": "0d91a634",
   "metadata": {},
   "outputs": [
    {
     "data": {
      "text/plain": [
       "True"
      ]
     },
     "execution_count": 23,
     "metadata": {},
     "output_type": "execute_result"
    }
   ],
   "source": [
    "group={\"(\": \")\",\n",
    "       \"{\":\"}\",\n",
    "       \"[\": \"]\"}\n",
    "'(' in group"
   ]
  },
  {
   "cell_type": "code",
   "execution_count": 31,
   "id": "86653bed",
   "metadata": {},
   "outputs": [
    {
     "data": {
      "text/plain": [
       "True"
      ]
     },
     "execution_count": 31,
     "metadata": {},
     "output_type": "execute_result"
    }
   ],
   "source": [
    "8 % 2 ==0"
   ]
  },
  {
   "cell_type": "code",
   "execution_count": 32,
   "id": "d40a253a",
   "metadata": {},
   "outputs": [
    {
     "data": {
      "text/plain": [
       "range(0, 6)"
      ]
     },
     "execution_count": 32,
     "metadata": {},
     "output_type": "execute_result"
    }
   ],
   "source": [
    "range(12-7+1)"
   ]
  },
  {
   "cell_type": "code",
   "execution_count": 34,
   "id": "229cf2f1",
   "metadata": {},
   "outputs": [
    {
     "name": "stdout",
     "output_type": "stream",
     "text": [
      "0\n",
      "1\n",
      "2\n",
      "3\n",
      "4\n",
      "5\n"
     ]
    }
   ],
   "source": [
    "for i in range(12-7+1):\n",
    "    print(i)"
   ]
  },
  {
   "cell_type": "code",
   "execution_count": 52,
   "id": "1897ef75",
   "metadata": {},
   "outputs": [
    {
     "data": {
      "text/plain": [
       "1"
      ]
     },
     "execution_count": 52,
     "metadata": {},
     "output_type": "execute_result"
    }
   ],
   "source": [
    "a =[1,2,5,2]\n",
    "min(a)"
   ]
  },
  {
   "cell_type": "code",
   "execution_count": 53,
   "id": "5f61be80",
   "metadata": {},
   "outputs": [
    {
     "data": {
      "text/plain": [
       "5"
      ]
     },
     "execution_count": 53,
     "metadata": {},
     "output_type": "execute_result"
    }
   ],
   "source": [
    "max(a)"
   ]
  },
  {
   "cell_type": "code",
   "execution_count": 54,
   "id": "88d52335",
   "metadata": {},
   "outputs": [
    {
     "data": {
      "text/plain": [
       "1"
      ]
     },
     "execution_count": 54,
     "metadata": {},
     "output_type": "execute_result"
    }
   ],
   "source": [
    "7 % 2 # remainder division"
   ]
  },
  {
   "cell_type": "code",
   "execution_count": 56,
   "id": "ce23d889",
   "metadata": {},
   "outputs": [
    {
     "data": {
      "text/plain": [
       "[1, 10, 9]"
      ]
     },
     "execution_count": 56,
     "metadata": {},
     "output_type": "execute_result"
    }
   ],
   "source": [
    "a=[1,2,10,9]\n",
    "a.pop(1)\n",
    "a"
   ]
  },
  {
   "cell_type": "code",
   "execution_count": 61,
   "id": "cdabd68b",
   "metadata": {},
   "outputs": [
    {
     "data": {
      "text/plain": [
       "3"
      ]
     },
     "execution_count": 61,
     "metadata": {},
     "output_type": "execute_result"
    }
   ],
   "source": [
    "new = []\n",
    "new.append(2)\n",
    "new.append(3)\n",
    "max(new)"
   ]
  },
  {
   "cell_type": "code",
   "execution_count": 71,
   "id": "3e595ee7",
   "metadata": {},
   "outputs": [
    {
     "data": {
      "text/plain": [
       "[-1, 0, 1, 3, 10]"
      ]
     },
     "execution_count": 71,
     "metadata": {},
     "output_type": "execute_result"
    }
   ],
   "source": [
    "a=[10,1,3,-1,0]\n",
    "a.sort()\n",
    "a"
   ]
  },
  {
   "cell_type": "code",
   "execution_count": 97,
   "id": "41d4d737",
   "metadata": {},
   "outputs": [
    {
     "data": {
      "text/plain": [
       "[0, 2, 3]"
      ]
     },
     "execution_count": 97,
     "metadata": {},
     "output_type": "execute_result"
    }
   ],
   "source": [
    "a=[(1,0),(4,1),(1,2),(1,3)] # tuple and list\n",
    "a.sort()\n",
    "b=[a[0][1],a[1][1],a[2][1]]\n",
    "b"
   ]
  },
  {
   "cell_type": "code",
   "execution_count": 98,
   "id": "f48906d9",
   "metadata": {},
   "outputs": [
    {
     "data": {
      "text/plain": [
       "0"
      ]
     },
     "execution_count": 98,
     "metadata": {},
     "output_type": "execute_result"
    }
   ],
   "source": [
    "a[0][1]"
   ]
  },
  {
   "cell_type": "code",
   "execution_count": 99,
   "id": "a0977aaa",
   "metadata": {},
   "outputs": [
    {
     "data": {
      "text/plain": [
       "2"
      ]
     },
     "execution_count": 99,
     "metadata": {},
     "output_type": "execute_result"
    }
   ],
   "source": [
    "a[1][1]"
   ]
  },
  {
   "cell_type": "code",
   "execution_count": 100,
   "id": "a8a43f6a",
   "metadata": {},
   "outputs": [
    {
     "data": {
      "text/plain": [
       "3"
      ]
     },
     "execution_count": 100,
     "metadata": {},
     "output_type": "execute_result"
    }
   ],
   "source": [
    "a[2][1]"
   ]
  },
  {
   "cell_type": "code",
   "execution_count": 101,
   "id": "f8aafb78",
   "metadata": {},
   "outputs": [
    {
     "data": {
      "text/plain": [
       "[(1, 0), (1, 2), (1, 3), (4, 1)]"
      ]
     },
     "execution_count": 101,
     "metadata": {},
     "output_type": "execute_result"
    }
   ],
   "source": [
    "a"
   ]
  },
  {
   "cell_type": "code",
   "execution_count": 102,
   "id": "777f9d3f",
   "metadata": {},
   "outputs": [
    {
     "data": {
      "text/plain": [
       "[(1, 0), (1, 2), (1, 3), (4, 1)]"
      ]
     },
     "execution_count": 102,
     "metadata": {},
     "output_type": "execute_result"
    }
   ],
   "source": [
    "a"
   ]
  },
  {
   "cell_type": "code",
   "execution_count": 103,
   "id": "0fa4dbbe",
   "metadata": {},
   "outputs": [
    {
     "data": {
      "text/plain": [
       "[0]"
      ]
     },
     "execution_count": 103,
     "metadata": {},
     "output_type": "execute_result"
    }
   ],
   "source": [
    "b=[]\n",
    "b.append(a[0][1])\n",
    "b"
   ]
  },
  {
   "cell_type": "code",
   "execution_count": 124,
   "id": "6f2d284a",
   "metadata": {},
   "outputs": [
    {
     "name": "stdout",
     "output_type": "stream",
     "text": [
      "[(0, '1a'), (1, '2b'), (2, '3c'), (3, '4d'), (4, '5e'), (5, '6t')]\n"
     ]
    }
   ],
   "source": [
    "lst=['1a','2b','3c','4d','5e','6t']\n",
    "obj=enumerate(lst)\n",
    "print(list(obj))"
   ]
  },
  {
   "cell_type": "code",
   "execution_count": 123,
   "id": "4481b193",
   "metadata": {},
   "outputs": [
    {
     "data": {
      "text/plain": [
       "1"
      ]
     },
     "execution_count": 123,
     "metadata": {},
     "output_type": "execute_result"
    }
   ],
   "source": [
    "lst[0].count(1)"
   ]
  },
  {
   "cell_type": "code",
   "execution_count": 129,
   "id": "ddc162d5",
   "metadata": {},
   "outputs": [
    {
     "data": {
      "text/plain": [
       "['1a', '2b', '3c', '4d', '5e', '6t']"
      ]
     },
     "execution_count": 129,
     "metadata": {},
     "output_type": "execute_result"
    }
   ],
   "source": [
    "lst"
   ]
  },
  {
   "cell_type": "code",
   "execution_count": 1,
   "id": "f7e85f58",
   "metadata": {},
   "outputs": [
    {
     "data": {
      "text/plain": [
       "3.5"
      ]
     },
     "execution_count": 1,
     "metadata": {},
     "output_type": "execute_result"
    }
   ],
   "source": [
    "7/2"
   ]
  },
  {
   "cell_type": "code",
   "execution_count": null,
   "id": "7f5bd421",
   "metadata": {},
   "outputs": [],
   "source": [
    "# enumerate"
   ]
  },
  {
   "cell_type": "code",
   "execution_count": 5,
   "id": "a8345be8",
   "metadata": {},
   "outputs": [
    {
     "data": {
      "text/plain": [
       "array(['m', 'k', 'l', 'c', 'w'], dtype='<U1')"
      ]
     },
     "execution_count": 5,
     "metadata": {},
     "output_type": "execute_result"
    }
   ],
   "source": [
    "a=['w','c','l','k','m']\n",
    "import numpy as np\n",
    "np.flip(a)"
   ]
  },
  {
   "cell_type": "code",
   "execution_count": 64,
   "id": "3d253770",
   "metadata": {},
   "outputs": [
    {
     "name": "stdout",
     "output_type": "stream",
     "text": [
      "Counter({'m': 2, 'w': 1, 'c': 1, 'l': 1, 'k': 1})\n"
     ]
    }
   ],
   "source": [
    "a=['w','c','l','k','m','m']\n",
    "\n",
    "print(Counter(a))"
   ]
  },
  {
   "cell_type": "code",
   "execution_count": 13,
   "id": "c3611062",
   "metadata": {},
   "outputs": [
    {
     "data": {
      "text/plain": [
       "Counter({'a': 2, 'b': 1})"
      ]
     },
     "execution_count": 13,
     "metadata": {},
     "output_type": "execute_result"
    }
   ],
   "source": [
    "from collections import Counter \n",
    "counter = Counter(['a', 'a', 'b'])\n",
    "counter"
   ]
  },
  {
   "cell_type": "code",
   "execution_count": 50,
   "id": "67d57cf7",
   "metadata": {},
   "outputs": [],
   "source": [
    "nums1 = [1,2,3]\n",
    "nums2=[4,5,9]"
   ]
  },
  {
   "cell_type": "code",
   "execution_count": 51,
   "id": "4f180dab",
   "metadata": {},
   "outputs": [
    {
     "data": {
      "text/plain": [
       "[1, 2, 3]"
      ]
     },
     "execution_count": 51,
     "metadata": {},
     "output_type": "execute_result"
    }
   ],
   "source": [
    "nums1"
   ]
  },
  {
   "cell_type": "code",
   "execution_count": 52,
   "id": "5cf247d6",
   "metadata": {},
   "outputs": [
    {
     "data": {
      "text/plain": [
       "[1, 2, 0]"
      ]
     },
     "execution_count": 52,
     "metadata": {},
     "output_type": "execute_result"
    }
   ],
   "source": [
    "nums1[-1] = 0\n",
    "nums1"
   ]
  },
  {
   "cell_type": "code",
   "execution_count": 56,
   "id": "a9d2d82f",
   "metadata": {},
   "outputs": [
    {
     "data": {
      "text/plain": [
       "['1', '2', '3']"
      ]
     },
     "execution_count": 56,
     "metadata": {},
     "output_type": "execute_result"
    }
   ],
   "source": [
    "a=123\n",
    "list(str(a))"
   ]
  },
  {
   "cell_type": "code",
   "execution_count": 59,
   "id": "dc70cba3",
   "metadata": {},
   "outputs": [
    {
     "data": {
      "text/plain": [
       "'321'"
      ]
     },
     "execution_count": 59,
     "metadata": {},
     "output_type": "execute_result"
    }
   ],
   "source": [
    "x='-123'\n",
    "x[:0:-1]"
   ]
  },
  {
   "cell_type": "code",
   "execution_count": 62,
   "id": "c38a11f9",
   "metadata": {},
   "outputs": [
    {
     "data": {
      "text/plain": [
       "'31'"
      ]
     },
     "execution_count": 62,
     "metadata": {},
     "output_type": "execute_result"
    }
   ],
   "source": [
    "x[:0:-2]"
   ]
  },
  {
   "cell_type": "code",
   "execution_count": 65,
   "id": "e21712eb",
   "metadata": {},
   "outputs": [
    {
     "data": {
      "text/plain": [
       "'321'"
      ]
     },
     "execution_count": 65,
     "metadata": {},
     "output_type": "execute_result"
    }
   ],
   "source": [
    "x='123'\n",
    "x[::-1]"
   ]
  },
  {
   "cell_type": "code",
   "execution_count": 69,
   "id": "f8a7b704",
   "metadata": {},
   "outputs": [
    {
     "data": {
      "text/plain": [
       "'fall'"
      ]
     },
     "execution_count": 69,
     "metadata": {},
     "output_type": "execute_result"
    }
   ],
   "source": [
    "''+'f'+'a'+'ll'"
   ]
  },
  {
   "cell_type": "code",
   "execution_count": 78,
   "id": "53b1a5f5",
   "metadata": {},
   "outputs": [
    {
     "name": "stdout",
     "output_type": "stream",
     "text": [
      "0 flower\n",
      "1 flow\n",
      "2 flight\n"
     ]
    }
   ],
   "source": [
    "a=['flower','flow','flight']\n",
    "for count, item in enumerate(a):\n",
    "  print(count, item)"
   ]
  },
  {
   "cell_type": "code",
   "execution_count": 79,
   "id": "6ce06a48",
   "metadata": {},
   "outputs": [
    {
     "name": "stdout",
     "output_type": "stream",
     "text": [
      "1\n",
      "2\n",
      "3\n",
      "4\n",
      "5\n"
     ]
    }
   ],
   "source": [
    "for i in range(1,6):\n",
    "    print(i)"
   ]
  },
  {
   "cell_type": "code",
   "execution_count": 89,
   "id": "b23e3faf",
   "metadata": {},
   "outputs": [
    {
     "name": "stdout",
     "output_type": "stream",
     "text": [
      "0 f\n",
      "1 l\n",
      "2 o\n",
      "3 w\n"
     ]
    }
   ],
   "source": [
    "strs = [\"flower\",\"flow\",\"flight\"]\n",
    "shortest_str=min(strs,key=len)\n",
    "for i, char in enumerate(shortest_str):\n",
    "    print(i, char)"
   ]
  },
  {
   "cell_type": "code",
   "execution_count": 93,
   "id": "ddee26ff",
   "metadata": {},
   "outputs": [
    {
     "name": "stdout",
     "output_type": "stream",
     "text": [
      "f\n",
      "f\n",
      "f\n",
      "l\n",
      "l\n",
      "l\n",
      "o\n",
      "o\n",
      "i\n",
      "w\n",
      "w\n",
      "g\n"
     ]
    }
   ],
   "source": [
    "for i, char in enumerate(shortest_str):\n",
    "    for other in strs:\n",
    "        print(other[i])"
   ]
  }
 ],
 "metadata": {
  "kernelspec": {
   "display_name": "Python 3",
   "language": "python",
   "name": "python3"
  },
  "language_info": {
   "codemirror_mode": {
    "name": "ipython",
    "version": 3
   },
   "file_extension": ".py",
   "mimetype": "text/x-python",
   "name": "python",
   "nbconvert_exporter": "python",
   "pygments_lexer": "ipython3",
   "version": "3.8.8"
  }
 },
 "nbformat": 4,
 "nbformat_minor": 5
}
