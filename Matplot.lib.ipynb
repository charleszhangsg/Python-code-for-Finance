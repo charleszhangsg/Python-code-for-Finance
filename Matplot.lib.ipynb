{
 "cells": [
  {
   "cell_type": "code",
   "execution_count": null,
   "metadata": {},
   "outputs": [],
   "source": [
    "import matplotlib.pyplot as plt\n",
    "import pandas as pd\n",
    "import numpy as np"
   ]
  },
  {
   "cell_type": "code",
   "execution_count": null,
   "metadata": {},
   "outputs": [],
   "source": [
    "x = [1,2,5]\n",
    "y = [0,1,2]\n",
    "z = [5,10,12]\n",
    "\n",
    "plt.plot(x,y)\n",
    "plt.plot(x,z)\n",
    "plt.title(\"My new plot\")\n",
    "plt.xlabel('x')\n",
    "plt.ylabel(\"y and z\")\n",
    "\n",
    "plt.xticks([1,2,3,4,5])\n",
    "\n",
    "plt.show()"
   ]
  },
  {
   "cell_type": "markdown",
   "metadata": {},
   "source": [
    "### basic graph"
   ]
  },
  {
   "cell_type": "code",
   "execution_count": null,
   "metadata": {
    "scrolled": true
   },
   "outputs": [],
   "source": [
    "\n",
    "x=[0,1,2,3,4]\n",
    "y=[0,2,4,6,8]\n",
    "plt.figure(figsize=(5,4))\n",
    "# line one\n",
    "plt.plot(x,y,color='red',label='2x',linewidth=2, marker='.',markersize=10, linestyle='--')# plot\n",
    "plt.title('Our first graph', fontdict={'fontsize':20})\n",
    "plt.xlabel('x')\n",
    "plt.ylabel('y')\n",
    "# line two\n",
    "z=np.arange(0,4.5,0.5)\n",
    "plt.plot(z, z**2,label='sqr')\n",
    "\n",
    "plt.xticks([0,1,2,3,4])\n",
    "plt.yticks([0,2,4,6,8]) # specify the range of x and y\n",
    "\n",
    "plt.legend() \n",
    "plt.savefig('mygraph.png')  # save the graph\n",
    "plt.show() "
   ]
  },
  {
   "cell_type": "markdown",
   "metadata": {},
   "source": [
    "### bar chart"
   ]
  },
  {
   "cell_type": "code",
   "execution_count": null,
   "metadata": {},
   "outputs": [],
   "source": [
    "a=['A','B','C']\n",
    "b=[4,8,12]\n",
    "bars=plt.bar(a,b)\n",
    "plt.title('this is a bar chart')\n",
    "#plt.xlabel('letters')\n",
    "#plt.ylabel('values')\n",
    "\n",
    "patterns=['/','o','*']  # filling of the bar\n",
    "for bar in bars:\n",
    "    bar.set_hatch(patterns.pop(0))\n",
    "\n",
    "plt.figure(figsize=(5,3))\n",
    "\n",
    "#plt.legend()\n",
    "plt.show()"
   ]
  },
  {
   "cell_type": "markdown",
   "metadata": {},
   "source": [
    "### gas example"
   ]
  },
  {
   "cell_type": "code",
   "execution_count": null,
   "metadata": {},
   "outputs": [],
   "source": [
    "gas = pd.read_csv('/Users/ZHANGMIN/Desktop/matplotlib_tutorial-master/gas_prices.csv')\n",
    "plt.figure(figsize=(15,5))\n",
    "\n",
    "plt.plot(gas['Year'], gas['USA'], 'b.-',label='US')\n",
    "plt.plot(gas['Year'], gas['Canada'], 'r.-',label='Canada')\n",
    "plt.plot(gas['Year'], gas['South Korea'], 'g.-',label='SK')\n",
    "\n",
    "plt.title('Gas price over the time')\n",
    "\n",
    "plt.xlabel('Year')\n",
    "plt.ylabel('price per barrel in $')\n",
    "\n",
    "plt.axhline(y=6)  # add a horizontal line\n",
    "\n",
    "plt.xticks(gas['Year'][::3]) # every three year in x axis\n",
    "\n",
    "plt.legend()\n",
    "plt.show()\n"
   ]
  },
  {
   "cell_type": "code",
   "execution_count": null,
   "metadata": {},
   "outputs": [],
   "source": [
    "for country in gas:\n",
    "    if country != 'Year':\n",
    "        plt.plot(gas.Year, gas[country], marker='.')\n",
    "plt.figure(figsize=(15,6))\n",
    "plt.show()"
   ]
  },
  {
   "cell_type": "code",
   "execution_count": null,
   "metadata": {},
   "outputs": [],
   "source": [
    "country_to_look = ['USA', 'Canada', 'South Korea']\n",
    "for country in gas:\n",
    "    if country in country_to_look:\n",
    "        plt.plot(gas['Year'], gas[country],label=country)\n",
    "        plt.legend()\n",
    "        plt.xticks(gas['Year'][::3])\n",
    "#plt.figure(figsize=(20,5))\n",
    "        "
   ]
  },
  {
   "cell_type": "markdown",
   "metadata": {},
   "source": [
    "### fifa example"
   ]
  },
  {
   "cell_type": "code",
   "execution_count": null,
   "metadata": {},
   "outputs": [],
   "source": [
    "fifa = pd.read_csv('/Users/ZHANGMIN/Desktop/matplotlib_tutorial-master/fifa_data.csv')\n",
    "#fifa.head()\n",
    "fifa.columns"
   ]
  },
  {
   "cell_type": "markdown",
   "metadata": {},
   "source": [
    "### histogram"
   ]
  },
  {
   "cell_type": "code",
   "execution_count": null,
   "metadata": {},
   "outputs": [],
   "source": [
    "bins=[0,10,20,30,40,50,60,70,80,90,100]\n",
    "plt.hist(fifa['Overall'], bins=bins, color='green') \n",
    "plt.xticks(bins)\n",
    "plt.xlabel('score')\n",
    "plt.ylabel('freq')\n",
    "plt.title('Distribution of FIFA overall score')\n",
    "plt.show()"
   ]
  },
  {
   "cell_type": "markdown",
   "metadata": {},
   "source": [
    "### pie chart "
   ]
  },
  {
   "cell_type": "code",
   "execution_count": null,
   "metadata": {},
   "outputs": [],
   "source": [
    "left=fifa.loc[fifa['Preferred Foot']=='Left'].count()[0]   \n",
    "right=fifa.loc[fifa['Preferred Foot']=='Right'].count()[0]\n",
    "plt.pie([left,right], labels=['left', 'right'],colors=['red', 'green'], autopct='%.2f %%')\n",
    "plt.title('preference pie chart')\n",
    "plt.show()"
   ]
  },
  {
   "cell_type": "code",
   "execution_count": null,
   "metadata": {},
   "outputs": [],
   "source": [
    "# pie chart 2 \n",
    "fifa['Weight']= [int(x.strip('lbs')) if type(x)==str else x for x in fifa['Weight']]\n",
    "fifa['Weight']"
   ]
  },
  {
   "cell_type": "code",
   "execution_count": null,
   "metadata": {},
   "outputs": [],
   "source": [
    "plt.style.use('ggplot')\n",
    "light = fifa.loc[fifa['Weight'] < 125].count()[0]\n",
    "median = fifa.loc[(fifa['Weight'] >= 125) & (fifa['Weight'] < 150)].count()[0]\n",
    "median_heavy = fifa.loc[(fifa['Weight'] >= 150) & (fifa['Weight'] < 175)].count()[0]\n",
    "heavy = fifa.loc[(fifa['Weight'] >= 175) & (fifa['Weight'] < 200)].count()[0]\n",
    "super_heavy = fifa.loc[(fifa['Weight'] >= 200)].count()[0]\n",
    "explode=[0.1,0.1,0.1,0.1,0.1]  # list\n",
    "plt.pie([light, median, median_heavy, heavy, super_heavy], # must be a list\n",
    "        labels=['light', 'median', 'median_heavy', 'heavy', 'super_heavy'], autopct='%.2f %%', explode=explode)\n",
    "#plt.legend()\n",
    "plt.figure(figsize=(20,10))\n",
    "plt.show()"
   ]
  },
  {
   "cell_type": "code",
   "execution_count": null,
   "metadata": {
    "scrolled": true
   },
   "outputs": [],
   "source": [
    "plt.style.use('default')  # or 'ggplot'\n",
    "\n",
    "barcelona = fifa.loc[fifa['Club']=='FC Barcelona']['Overall']\n",
    "madrid = fifa.loc[fifa['Club']=='Real Madrid']['Overall']\n",
    "revs = fifa.loc[fifa['Club']=='New England Revolution']['Overall']\n",
    "labels=['FC Barcelona', 'Real Madrid', 'New England Revolution']\n",
    "\n",
    "plt.boxplot([barcelona, madrid, revs], labels=labels)\n",
    "plt.title('Best Teams performance')\n",
    "plt.xlabel('Team')\n",
    "plt.ylabel('Score')\n",
    "\n",
    "plt.figure(figsize=(5,8))\n",
    "plt.show()"
   ]
  }
 ],
 "metadata": {
  "kernelspec": {
   "display_name": "Python 3",
   "language": "python",
   "name": "python3"
  },
  "language_info": {
   "codemirror_mode": {
    "name": "ipython",
    "version": 3
   },
   "file_extension": ".py",
   "mimetype": "text/x-python",
   "name": "python",
   "nbconvert_exporter": "python",
   "pygments_lexer": "ipython3",
   "version": "3.8.8"
  }
 },
 "nbformat": 4,
 "nbformat_minor": 4
}
